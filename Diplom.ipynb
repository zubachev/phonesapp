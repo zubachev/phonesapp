{
 "cells": [
  {
   "cell_type": "code",
   "execution_count": 2,
   "metadata": {
    "collapsed": true
   },
   "outputs": [],
   "source": [
    "import warnings\n",
    "warnings.filterwarnings(\"ignore\")\n",
    "\n",
    "import numpy as np\n",
    "import pandas as pd\n",
    "import re\n",
    "import pickle\n",
    "\n",
    "import requests\n",
    "import bs4\n",
    "import codecs\n",
    "from codecs import open\n",
    "\n",
    "from sentiment_classifier import SentimentClassifier\n",
    "import time\n",
    "from flask import Flask, render_template, request\n",
    "from nocache import nocache\n",
    "\n",
    "from nltk.corpus import stopwords\n",
    "from sklearn.feature_extraction.text import TfidfTransformer, CountVectorizer, TfidfVectorizer\n",
    "from sklearn.linear_model import LogisticRegression\n",
    "from sklearn.cross_validation import cross_val_score\n",
    "from sklearn.pipeline import Pipeline\n",
    "from sklearn.pipeline import make_pipeline"
   ]
  },
  {
   "cell_type": "code",
   "execution_count": 4,
   "metadata": {},
   "outputs": [
    {
     "name": "stdout",
     "output_type": "stream",
     "text": [
      "Подготовка классификатора...\n",
      "Классификатор готов\n",
      "1.0506982803344727 секунд\n"
     ]
    },
    {
     "name": "stderr",
     "output_type": "stream",
     "text": [
      " * Running on http://127.0.0.1:5000/ (Press CTRL+C to quit)\n",
      "127.0.0.1 - - [02/Apr/2018 16:24:30] \"GET / HTTP/1.1\" 200 -\n",
      "127.0.0.1 - - [02/Apr/2018 16:24:30] \"GET /static/css/bootstrap.css HTTP/1.1\" 200 -\n",
      "127.0.0.1 - - [02/Apr/2018 16:24:30] \"GET /static/css/fontawesome.css HTTP/1.1\" 200 -\n",
      "127.0.0.1 - - [02/Apr/2018 16:24:30] \"GET /static/css/main.css HTTP/1.1\" 200 -\n",
      "127.0.0.1 - - [02/Apr/2018 16:24:30] \"GET /static/js/jquery.min.js HTTP/1.1\" 200 -\n",
      "127.0.0.1 - - [02/Apr/2018 16:24:30] \"GET /static/js/bootstrap.min.js HTTP/1.1\" 200 -\n",
      "127.0.0.1 - - [02/Apr/2018 16:24:30] \"GET /static/img/04.jpg HTTP/1.1\" 200 -\n",
      "127.0.0.1 - - [02/Apr/2018 16:24:30] \"GET /static/img/1_pos.jpg HTTP/1.1\" 200 -\n",
      "127.0.0.1 - - [02/Apr/2018 16:24:30] \"GET /static/img/2_neg.jpg HTTP/1.1\" 200 -\n",
      "127.0.0.1 - - [02/Apr/2018 16:24:31] \"GET /static/img/3_prob_neg.jpg HTTP/1.1\" 200 -\n",
      "127.0.0.1 - - [02/Apr/2018 16:24:31] \"GET /static/img/regression.jpg HTTP/1.1\" 200 -\n",
      "127.0.0.1 - - [02/Apr/2018 16:24:31] \"GET /static/img/CatDogClass.gif HTTP/1.1\" 200 -\n",
      "127.0.0.1 - - [02/Apr/2018 16:24:31] \"GET /static/img/clustering.jpg HTTP/1.1\" 200 -\n",
      "127.0.0.1 - - [02/Apr/2018 16:24:31] \"GET /static/img/sns.jpg HTTP/1.1\" 200 -\n",
      "127.0.0.1 - - [02/Apr/2018 16:24:31] \"GET /static/img/Face_Recognition.jpg HTTP/1.1\" 200 -\n",
      "127.0.0.1 - - [02/Apr/2018 16:24:31] \"GET /static/img/salary.jpg HTTP/1.1\" 200 -\n",
      "127.0.0.1 - - [02/Apr/2018 16:24:31] \"GET /static/img/Me.jpg HTTP/1.1\" 200 -\n",
      "127.0.0.1 - - [02/Apr/2018 16:24:31] \"GET /static/img/strikey.jpg HTTP/1.1\" 200 -\n",
      "127.0.0.1 - - [02/Apr/2018 16:24:31] \"GET /static/img/my_layout.jpg HTTP/1.1\" 200 -\n",
      "127.0.0.1 - - [02/Apr/2018 16:24:31] \"GET /static/img/Course_6_Cert.jpg HTTP/1.1\" 200 -\n",
      "127.0.0.1 - - [02/Apr/2018 16:24:31] \"GET /static/img/Diplom.jpg HTTP/1.1\" 200 -\n",
      "127.0.0.1 - - [02/Apr/2018 16:24:32] \"GET /static/fonts/fontawesome-webfont.woff2?v=4.7.0 HTTP/1.1\" 200 -\n",
      "127.0.0.1 - - [02/Apr/2018 16:24:32] \"GET /static/fonts/glyphicons-halflings-regular.woff2 HTTP/1.1\" 200 -\n",
      "127.0.0.1 - - [02/Apr/2018 16:24:33] \"GET /favicon.ico HTTP/1.1\" 404 -\n"
     ]
    }
   ],
   "source": [
    "app = Flask(__name__)\n",
    "\n",
    "print (\"Подготовка классификатора...\")\n",
    "start_time = time.time()\n",
    "classifier = SentimentClassifier()\n",
    "print (\"Классификатор готов\")\n",
    "print (time.time() - start_time, \"секунд\")\n",
    "\n",
    "@app.route(\"/\", methods=[\"POST\", \"GET\"])\n",
    "@nocache\n",
    "def index_page(text=\"\", prediction_message=\"\"):\n",
    "    if request.method == \"POST\":\n",
    "        text = request.form[\"text\"]\n",
    "        print (text)\n",
    "        prediction_message = classifier.get_prediction_message(text)\n",
    "        print (prediction_message)\n",
    "    return render_template('index.html', text=text, prediction_message=prediction_message)\n",
    "\n",
    "if __name__ == \"__main__\":\n",
    "    app.run()"
   ]
  },
  {
   "cell_type": "code",
   "execution_count": 3,
   "metadata": {
    "collapsed": true
   },
   "outputs": [],
   "source": [
    "# код сбора данных для конкретной странички в отдельную функцию\n",
    "def get_data(form, url):\n",
    "    text = requests.get(url).text\n",
    "    parser = bs4.BeautifulSoup(text, 'lxml')\n",
    "    class_str = r'\\\"review\\\"' # r в начале означает, что спецсимволы типа \\,\",\\n не будут конвертироваться в новые строки\n",
    "    reviews = parser.findAll('div', attrs={'class':class_str})\n",
    "    \n",
    "    if reviews == None:\n",
    "        print ('Ошибка: по данному адресу ' + url + 'нет отзывов!')\n",
    "        return None\n",
    "    \n",
    "    texts = []\n",
    "    labels = []\n",
    "    # парсим отзывы на тексты и метки\n",
    "    for i in range(len(reviews)):\n",
    "        st = reviews[i].find('img')\n",
    "        if st != None:\n",
    "            idx = str(st).find('smile')\n",
    "            if idx > 0:\n",
    "                class_str = r'\\'review-title\\''\n",
    "                title = reviews[i].find('div', attrs={'class':class_str})\n",
    "                class_str = r'\\'review-comment\\''\n",
    "                comment = reviews[i].find('div', attrs={'class':class_str})\n",
    "                class_str = r'\\'review-plus\\''\n",
    "                plus = reviews[i].find('div', attrs={'class':class_str})\n",
    "                class_str = r'\\'review-minus\\''\n",
    "                minus = reviews[i].find('div', attrs={'class':class_str})\n",
    "                class_str = r'\\'review-period\\''\n",
    "                period = reviews[i].find('div', attrs={'class':class_str})\n",
    "                \n",
    "                label = int(str(st)[idx+6:idx+7])\n",
    "                \n",
    "                try:\n",
    "                    if (label == 1 or label == 2) and (form != 'pos'): # если отзыв негативный, то плюсы игнорируем\n",
    "                        text = []\n",
    "                        if title != None: text = title.text.lower()\n",
    "                        if comment != None: text = text + ' ' + comment.text.lower()\n",
    "                        if minus != None: text = text + ' ' + minus.text.lower()\n",
    "                        #if plus != None: text = text + ' ' + plus.text.lower()\n",
    "                        if period != None: text = text + ' ' + period.text.lower()\n",
    "                        texts.append(text)\n",
    "                        labels.append(0)\n",
    "                    elif (label == 3 or label == 4) and (form != 'neg'): # если позитивный, то минусы игнорируем\n",
    "                        text = []\n",
    "                        if title != None: text = title.text.lower()\n",
    "                        if comment != None: text = text + ' ' + comment.text.lower()\n",
    "                        #if minus != None: text = text + ' ' + minus.text.lower()\n",
    "                        if plus != None: text = text + ' ' + plus.text.lower()\n",
    "                        if period != None: text = text + ' ' + period.text.lower()\n",
    "                        texts.append(text)\n",
    "                        labels.append(1)\n",
    "                except:\n",
    "                    print (i)\n",
    "                    continue\n",
    "\n",
    "    return texts, labels"
   ]
  },
  {
   "cell_type": "code",
   "execution_count": 9,
   "metadata": {
    "collapsed": true
   },
   "outputs": [],
   "source": [
    "# перемешиваем 2 массива синхронно\n",
    "def shuffle_in_unison(a, b):\n",
    "    assert len(a) == len(b)\n",
    "    shuffled_a = np.empty(a.shape, dtype=a.dtype)\n",
    "    shuffled_b = np.empty(b.shape, dtype=b.dtype)\n",
    "    permutation = np.random.permutation(len(a))\n",
    "    for old_index, new_index in enumerate(permutation):\n",
    "        shuffled_a[new_index] = a[old_index]\n",
    "        shuffled_b[new_index] = b[old_index]\n",
    "    return shuffled_a, shuffled_b"
   ]
  },
  {
   "cell_type": "code",
   "execution_count": 10,
   "metadata": {},
   "outputs": [
    {
     "name": "stdout",
     "output_type": "stream",
     "text": [
      "Всего отзывов: 2879\n",
      "Доля положительных:  0.86\n"
     ]
    }
   ],
   "source": [
    "# собираем вручную id страниц с отзывами и получаем данные, состоящие из 3000 отзывов для обучения модели\n",
    "#%%time\n",
    "texts = []\n",
    "labels = []\n",
    "\n",
    "# все отзывы\n",
    "ids = ['451560', '477190', '756658', '970070', '311531', '970462', '1096093', \n",
    "      '100538', '85658', '60787', '260239', '82577', '77604', '47888', '77601', '103345', '103346', '157759', '88871', '96704',\n",
    "       '58222', '58224', '54176', '244246', '820213', '543531', '625504', '310279', '846154', '910896']\n",
    "\n",
    "for i in range(len(ids)):\n",
    "    t, l = get_data('all', 'http://www.e-katalog.ru/mtools/dot_output/mui_review.php?idg_=' + ids[i] + '&p_start_=1&p_end_=1000')\n",
    "    texts.extend(t)\n",
    "    labels.extend(l)\n",
    "\n",
    "print ('Всего отзывов:', len(labels))\n",
    "print ('Доля положительных: ', round(np.mean(labels), 2))\n",
    "\n",
    "# перемешиваем\n",
    "texts_train, labels = shuffle_in_unison(np.asarray(texts), np.asarray(labels))\n",
    "\n",
    "cv = 5"
   ]
  },
  {
   "cell_type": "code",
   "execution_count": 11,
   "metadata": {
    "collapsed": true
   },
   "outputs": [],
   "source": [
    "# Векторайзер и модель\n",
    "tf_vectorizer = CountVectorizer(ngram_range=(3, 5), analyzer=u'char')\n",
    "mx = tf_vectorizer.fit_transform(texts_train)\n",
    "model = LogisticRegression(class_weight='balanced')\n",
    "model.fit(mx, labels)\n",
    "\n",
    "# сериализация векторайзера и модели в бинарные файлы\n",
    "with open('./LogisticUnigramUnprocessedTextSentiment.pkl', 'wb') as handle:\n",
    "    pickle.dump(model, handle)\n",
    "with open('./UnigramUnprocessedVectorizer.pkl', 'wb') as handle:\n",
    "    pickle.dump(tf_vectorizer, handle)"
   ]
  },
  {
   "cell_type": "code",
   "execution_count": 64,
   "metadata": {
    "collapsed": true
   },
   "outputs": [],
   "source": [
    "class SentimentClassifier_(object):\n",
    "    def __init__(self):\n",
    "        with open('./LogisticUnigramUnprocessedTextSentiment.pkl', 'rb') as f:\n",
    "            self.model = pickle.load(f)\n",
    "        with open('./UnigramUnprocessedVectorizer.pkl', 'rb') as f:\n",
    "            self.vectorizer = pickle.load(f)\n",
    "        self.classes_dict = {0: u\"негативный\", 1: u\"позитивный\", -1: u\"ошибка прогноза\"}\n",
    "\n",
    "    @staticmethod\n",
    "    def get_probability_words(probability):\n",
    "        if probability < 0.55:\n",
    "            return u\"нейтральный или неточный\"\n",
    "        if probability < 0.71:\n",
    "            return u\"скорее всего\"\n",
    "        if probability > 0.95:\n",
    "            return u\"точно\"\n",
    "        else:\n",
    "            return \"\"\n",
    "\n",
    "    def predict_text(self, text):\n",
    "        try:\n",
    "            vectorized = self.vectorizer.transform([text])\n",
    "            return self.model.predict(vectorized)[0],\\\n",
    "                self.model.predict_proba(vectorized)[0].max()\n",
    "        except:\n",
    "            print (u\"ошибка прогноза\")\n",
    "            return -1, 0.8\n",
    "\n",
    "    def predict_list(self, list_of_texts):\n",
    "        try:\n",
    "            vectorized = self.vectorizer.transform(list_of_texts)\n",
    "            return self.model.predict(vectorized),\\\n",
    "                self.model.predict_proba(vectorized)\n",
    "        except:\n",
    "            print (u\"ошибка прогноза\")\n",
    "            return None\n",
    "\n",
    "    def get_prediction_message(self, text):\n",
    "        prediction = self.predict_text(text)\n",
    "        class_prediction = prediction[0]\n",
    "\n",
    "        prediction_probability = prediction[1]\n",
    "        if (prediction_probability > 0.65) and (prediction_probability < 0.71):\n",
    "            class_prediction = 0\n",
    "\n",
    "        return self.get_probability_words(prediction_probability) + \" \" + self.classes_dict[class_prediction]"
   ]
  },
  {
   "cell_type": "code",
   "execution_count": 12,
   "metadata": {},
   "outputs": [
    {
     "name": "stdout",
     "output_type": "stream",
     "text": [
      "скорее всего негативный\n"
     ]
    }
   ],
   "source": [
    "#test_review = 'очень плохой телефон. Не рекоммендую покупать его'\n",
    "#test_review = 'очень хороший телефон. Обязателен к покупке!'\n",
    "#test_review = 'Считаю его одним из лучших в своем ценовом диапазоне. Очень шустрый телефон, приятная оболочка ( лучше гуголовской), хорошо сидит в руке. Отдельно хотел похвалить аккумулятор - телефон спокойно хватает на два дня при среднем времени использования. Единственным недостатком считаю камеру, так как она плохо фокусируется и часто все мажет'\n",
    "#test_review = 'Ужасная камера, отвратительная просто. Звук громкости, тихий очень. Подсветки на клавишах нет. Индикатора пропущенных вызовов нет. Не стоит таких денег, как на витрине. Хуже китайцев. А, но да за марку самсунг денег же содрать нужно. Фуфло полное. Кто думает его покупать. Сначала хорошенько все посмотрите и подумайте. Удачи!!!'\n",
    "#test_review = 'Взял по вроде не плохим параметрам: батарея, камера, 4G, 1ГБ оперативки. До этого имел опыт эксплуатации девайсов марки престижио и в принципе был хорошего мнения о них. Но этот аппарат совсем меня как то растроил всем, чем только можно. Да аккум держит подольше моего прежнего алкателя, но не сильно, хотя 5000мАч против 2000мАч должен как минимум раза в 2 держать заряда дольше, все приложения да и любые действия на аппарате происходят с такой задержкой...., что кажется тут максимум андроид 2 стоит не больше. Ну и пожалуй самый главный косяк, это слабый микрофон-(собеседник плохо слышит)'\n",
    "#test_review = 'Не могу нарадоваться на этот телефон!'\n",
    "#test_review = 'Опять снег пошел. Вот тебе и весна :('\n",
    "test_review = 'отсутствие памяти, камера влюбилась в этот телефон за его внешний вид, целенаправленно искала нужную расцветку, не обращая внимания на плохие отзывы. зря! внешне он меня до сих пор радует, но пользоваться им - сплошное мучение. карта памяти есть, но фото на нее не сохраняются, если памяти на самом телефоне мало (где связь?). приложений осталось 2-3 штуки, но и им недолго осталось, скоро и их придется удалить.'\n",
    "classifier = SentimentClassifier()\n",
    "prediction_message = classifier.get_prediction_message(test_review)\n",
    "print (prediction_message)"
   ]
  }
 ],
 "metadata": {
  "kernelspec": {
   "display_name": "Python 3",
   "language": "python",
   "name": "python3"
  },
  "language_info": {
   "codemirror_mode": {
    "name": "ipython",
    "version": 3
   },
   "file_extension": ".py",
   "mimetype": "text/x-python",
   "name": "python",
   "nbconvert_exporter": "python",
   "pygments_lexer": "ipython3",
   "version": "3.6.3"
  }
 },
 "nbformat": 4,
 "nbformat_minor": 2
}
